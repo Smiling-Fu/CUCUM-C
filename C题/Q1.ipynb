{
 "cells": [
  {
   "cell_type": "markdown",
   "metadata": {},
   "source": []
  },
  {
   "cell_type": "code",
   "execution_count": 16,
   "metadata": {},
   "outputs": [
    {
     "name": "stdout",
     "output_type": "stream",
     "text": [
      "\n",
      "[[69.33 0.0 9.99 6.32 0.87 3.93 1.74 3.87 0.0 0.0 1.17 0.0 0.0 0.39]\n",
      " [36.28 0.0 1.05 2.34 1.18 5.73 1.86 0.26 47.43 0.0 3.57 0.19 0.0 0.0]\n",
      " [87.05 0.0 5.19 2.01 0.0 4.06 0.0 0.78 0.25 0.0 0.66 0.0 0.0 0.0]\n",
      " [61.71 0.0 12.37 5.87 1.11 5.5 2.16 5.09 1.41 2.86 0.7 0.1 0.0 0.0]\n",
      " [65.88 0.0 9.67 7.12 1.56 6.44 2.06 2.18 0.0 0.0 0.79 0.0 0.0 0.36]\n",
      " [61.58 0.0 10.95 7.35 1.77 7.5 2.62 3.27 0.0 0.0 0.94 0.06 0.0 0.47]\n",
      " [67.65 0.0 7.37 0.0 1.98 11.15 2.39 2.51 0.2 1.38 4.18 0.11 0.0 0.0]\n",
      " [59.81 0.0 7.68 5.41 1.73 10.05 6.04 2.18 0.35 0.97 4.5 0.12 0.0 0.0]\n",
      " [92.63 0.0 0.0 1.07 0.0 1.98 0.17 3.24 0.0 0.0 0.61 0.0 0.0 0.0]\n",
      " [20.14 0.0 0.0 1.48 0.0 1.34 0.0 10.41 28.68 31.23 3.59 0.37 0.0 2.58]\n",
      " [4.61 0.0 0.0 3.19 0.0 1.11 0.0 3.14 32.45 30.62 7.56 0.53 0.0 15.03]\n",
      " [95.02 0.0 0.59 0.62 0.0 1.32 0.32 1.55 0.0 0.0 0.35 0.0 0.0 0.0]\n",
      " [96.77 0.0 0.92 0.21 0.0 0.81 0.26 0.84 0.0 0.0 0.0 0.0 0.0 0.0]\n",
      " [33.59 0.0 0.21 3.51 0.71 2.69 0.0 4.93 25.39 14.61 9.38 0.37 0.0 0.0]\n",
      " [94.29 0.0 1.01 0.72 0.0 1.46 0.29 1.65 0.0 0.0 0.15 0.0 0.0 0.0]\n",
      " [59.01 2.86 12.53 8.7 0.0 6.16 2.88 4.73 0.0 0.0 1.27 0.0 0.0 0.0]\n",
      " [62.47 3.38 12.28 8.23 0.66 9.23 0.5 0.47 1.62 0.0 0.16 0.0 0.0 0.0]\n",
      " [65.18 2.1 14.52 8.27 0.52 6.18 0.42 1.07 0.11 0.0 0.0 0.04 0.0 0.0]\n",
      " [79.46 0.0 9.42 0.0 1.53 3.05 0.0 0.0 0.0 0.0 1.36 0.07 2.36 0.0]\n",
      " [29.64 0.0 0.0 2.93 0.59 3.57 1.33 3.51 42.82 5.35 8.83 0.19 0.0 0.0]\n",
      " [37.36 0.0 0.71 0.0 0.0 5.45 1.51 4.78 9.3 23.55 5.75 0.0 0.0 0.0]\n",
      " [76.68 0.0 0.0 4.71 1.22 6.19 2.37 3.28 1.0 1.97 1.1 0.0 0.0 0.0]\n",
      " [92.35 0.0 0.74 1.66 0.64 3.5 0.35 0.55 0.0 0.0 0.21 0.0 0.0 0.0]\n",
      " [53.79 7.92 0.0 0.5 0.71 1.42 0.0 2.99 16.98 11.86 0.0 0.33 0.0 0.0]\n",
      " [31.94 0.0 0.0 0.47 0.0 1.59 0.0 8.46 29.14 26.23 0.14 0.91 0.0 0.0]\n",
      " [50.61 2.31 0.0 0.63 0.0 1.9 1.55 1.12 31.9 6.65 0.19 0.2 0.0 0.0]\n",
      " [19.79 0.0 0.0 1.44 0.0 0.7 0.0 10.57 29.53 32.25 3.13 0.45 0.0 1.96]\n",
      " [3.72 0.0 0.4 3.01 0.0 1.18 0.0 3.6 29.92 35.45 6.04 0.62 0.0 15.95]\n",
      " [92.72 0.0 0.0 0.94 0.54 2.51 0.2 1.54 0.0 0.0 0.36 0.0 0.0 0.0]\n",
      " [68.08 0.0 0.26 1.34 1.0 4.7 0.41 0.33 17.14 4.04 1.04 0.12 0.23 0.0]\n",
      " [63.3 0.92 0.3 2.98 1.49 14.34 0.81 0.74 12.31 2.03 0.41 0.25 0.0 0.0]\n",
      " [34.34 0.0 1.41 4.49 0.98 4.35 2.12 0.0 39.22 10.29 0.0 0.35 0.4 0.0]\n",
      " [36.93 0.0 0.0 4.24 0.51 3.86 2.74 0.0 37.74 10.35 1.41 0.48 0.44 0.0]\n",
      " [65.91 0.0 0.0 1.6 0.89 3.11 4.59 0.44 16.55 3.42 1.62 0.3 0.0 0.0]\n",
      " [69.71 0.0 0.21 0.46 0.0 2.36 1.0 0.11 19.76 4.88 0.17 0.0 0.0 0.0]\n",
      " [75.51 0.0 0.15 0.64 1.0 2.35 0.0 0.47 16.16 3.55 0.13 0.0 0.0 0.0]\n",
      " [35.78 0.0 0.25 0.78 0.0 1.62 0.47 1.51 46.55 10.0 0.34 0.22 0.0 0.0]\n",
      " [65.91 0.0 0.0 0.38 0.0 1.44 0.17 0.16 22.05 5.68 0.42 0.0 0.0 0.0]\n",
      " [39.57 2.22 0.14 0.37 0.0 1.6 0.32 0.68 41.61 10.83 0.07 0.22 0.0 0.0]\n",
      " [60.12 0.0 0.23 0.89 0.0 2.72 0.0 3.01 17.24 10.34 1.46 0.31 0.0 3.66]\n",
      " [32.93 1.38 0.0 0.68 0.0 2.57 0.29 0.73 49.31 9.79 0.48 0.41 0.0 0.0]\n",
      " [26.25 0.0 0.0 1.11 0.0 0.5 0.0 0.88 61.03 7.22 1.16 0.61 0.0 0.0]\n",
      " [16.71 0.0 0.0 1.87 0.0 0.45 0.19 0.0 70.21 6.69 1.77 0.68 0.0 0.0]\n",
      " [18.46 0.0 0.44 4.96 2.73 3.33 1.79 0.19 44.12 9.76 7.46 0.47 0.0 0.0]\n",
      " [51.26 5.74 0.15 0.79 1.09 3.53 0.0 2.67 21.88 10.47 0.08 0.35 0.0 0.0]\n",
      " [51.33 5.68 0.35 0.0 1.16 5.66 0.0 2.72 20.12 10.88 0.0 0.0 0.0 0.0]\n",
      " [12.41 0.0 0.0 5.24 0.89 2.25 0.76 5.35 59.85 7.29 0.0 0.64 0.0 0.0]\n",
      " [21.7 0.0 0.0 6.4 0.95 3.41 1.39 1.51 44.75 3.26 12.83 0.47 0.0 0.0]\n",
      " [60.74 3.06 0.2 2.14 0.0 12.69 0.77 0.43 13.61 5.22 0.0 0.26 0.0 0.0]\n",
      " [61.28 2.66 0.11 0.84 0.74 5.0 0.0 0.53 15.99 10.96 0.0 0.23 0.0 0.0]\n",
      " [55.21 0.0 0.25 0.0 1.67 4.79 0.0 0.77 25.25 10.06 0.2 0.43 0.0 0.0]\n",
      " [51.54 4.66 0.29 0.87 0.61 3.06 0.0 0.65 25.4 9.23 0.1 0.85 0.0 0.0]\n",
      " [53.33 0.8 0.32 2.82 1.54 13.65 1.03 0.0 15.71 7.31 1.1 0.25 1.31 0.0]\n",
      " [28.79 0.0 0.0 4.58 1.47 5.38 2.74 0.7 34.18 6.1 11.1 0.46 0.0 0.0]\n",
      " [54.61 0.0 0.3 2.08 1.2 6.5 1.27 0.45 23.02 4.19 4.32 0.3 0.0 0.0]\n",
      " [17.98 0.0 0.0 3.19 0.47 1.87 0.33 1.13 44.0 14.2 6.34 0.66 0.0 0.0]\n",
      " [45.02 0.0 0.0 3.12 0.54 4.16 0.0 0.7 30.61 6.22 6.34 0.23 0.0 0.0]\n",
      " [24.61 0.0 0.0 3.58 1.19 5.25 1.19 1.37 40.24 8.94 8.1 0.39 0.47 0.0]\n",
      " [21.35 0.0 0.0 5.13 1.45 2.51 0.42 0.75 51.34 0.0 8.75 0.0 0.0 0.0]\n",
      " [25.74 1.22 0.0 2.27 0.55 1.16 0.23 0.7 47.42 8.64 5.71 0.44 0.0 0.0]\n",
      " [63.66 3.04 0.11 0.78 1.14 6.06 0.0 0.54 13.66 8.99 0.0 0.27 0.0 0.0]\n",
      " [22.28 0.0 0.32 3.19 1.28 4.15 0.0 0.83 55.46 7.04 4.24 0.88 0.0 0.0]\n",
      " [17.11 0.0 0.0 0.0 1.11 3.65 0.0 1.34 58.46 0.0 14.13 1.12 0.0 0.0]\n",
      " [49.01 2.71 0.0 1.13 0.0 1.45 0.0 0.86 32.92 7.95 0.35 0.0 0.0 0.0]\n",
      " [29.15 3.097647059 0.0 1.21 0.0 1.85 1.303488372 0.79 41.25 15.45 2.54\n",
      "  0.0 0.0 0.0]\n",
      " [25.42 0.0 0.0 1.31 0.0 2.18 1.303488372 1.16 45.1 17.3 3.060363636 0.0\n",
      "  0.0 0.0]\n",
      " [30.39 0.0 0.34 3.49 0.79 3.52 0.86 3.13 39.35 7.66 8.99 0.24 0.0 0.0]]\n"
     ]
    }
   ],
   "source": [
    "import pandas as pd\n",
    "import numpy as np\n",
    "csv_list = pd.read_csv(\"D:\\\\大三\\\\数学建模\\\\C题\\\\sheet2.csv\")\n",
    "csv_list=csv_list.fillna(0)\n",
    "csv_array = np.array(csv_list)\n",
    "\n",
    "# csv_array = csv_list.values\n",
    "csv_array = csv_array[:,1:-5]\n",
    "# print(csv_array.shape)\n",
    "# nan_ = csv_array[0][2]\n",
    "# print(type(csv_array[0][2]))\n",
    "# print(np.where(csv_array==nan_))\n",
    "# print()\n",
    "# print(csv_array)"
   ]
  },
  {
   "cell_type": "code",
   "execution_count": 3,
   "metadata": {
    "tags": []
   },
   "outputs": [
    {
     "name": "stdout",
     "output_type": "stream",
     "text": [
      "2 114812527.17968786 0.4175384366211063\n",
      "3 76859874.094819 0.41162239863009725\n",
      "4 60530027.88862597 0.35975653114327416\n",
      "5 47577335.62984525 0.3731799247237591\n",
      "6 41140847.54906556 0.31906065657385047\n",
      "7 36200340.47945531 0.3273171801425904\n",
      "8 32752424.029814895 0.29547764566073426\n"
     ]
    }
   ],
   "source": [
    "from sklearn.metrics import silhouette_score, silhouette_samples\n",
    "from sklearn.cluster import KMeans\n",
    "from matplotlib import pyplot as plt\n",
    "\n",
    "for i in range(2,9):\n",
    "    n_clusters = i\n",
    "    estimator = KMeans(n_clusters=n_clusters)#构造聚类器\n",
    "    estimator.fit(riders_cp_time)#聚类\n",
    "    label_pred = estimator.labels_ #获取聚类标签\n",
    "    centroids = estimator.cluster_centers_ #获取聚类中心\n",
    "    inertia = estimator.inertia_ # 获取聚类准则的总和\n",
    "\n",
    "    sc = silhouette_score(riders_cp_time, label_pred)\n",
    "\n",
    "\n",
    "    print(n_clusters,inertia,sc)"
   ]
  },
  {
   "cell_type": "code",
   "execution_count": 4,
   "metadata": {
    "tags": []
   },
   "outputs": [
    {
     "name": "stdout",
     "output_type": "stream",
     "text": [
      "[[ 941.19598165  695.13234455  358.99521774  332.28253505  307.44367976\n",
      "   288.39466525  281.4748929   264.21087219  247.49834239]\n",
      " [1901.00501991  878.73116274  414.71602377  381.76293302  350.78355094\n",
      "   324.31733887  314.89494953  295.75515736  280.51163255]\n",
      " [ 574.8138017   428.85279128  266.14709355  250.35494411  234.74291929\n",
      "   222.78997064  218.21889972  206.18612085  193.81168794]\n",
      " [1277.82357597  920.98860597  430.47236961  391.71529357  357.00532262\n",
      "   332.33448148  324.05860033  305.02784911  286.58838128]\n",
      " [1409.42857143 2319.22190429  457.37500143  389.24285714  354.48499857\n",
      "   323.10863143  318.94642714  297.23184571  283.99361   ]]\n"
     ]
    }
   ],
   "source": [
    "# 选择5\n",
    "# 1 Pursuiter 2 All-Rounder 3 Sprinter 4 Time Trialist, Climber\n",
    "n_clusters = 5\n",
    "estimator = KMeans(n_clusters=n_clusters)#构造聚类器\n",
    "estimator.fit(riders_cp_time)#聚类\n",
    "label_pred = estimator.labels_ #获取聚类标签\n",
    "centroids = estimator.cluster_centers_ #获取聚类中心\n",
    "inertia = estimator.inertia_ # 获取聚类准则的总和\n",
    "\n",
    "sc = silhouette_score(riders_cp_time, label_pred)\n",
    "\n",
    "print(centroids)\n",
    "\n",
    "clusters = np.unique(label_pred)"
   ]
  },
  {
   "cell_type": "code",
   "execution_count": 6,
   "metadata": {
    "tags": []
   },
   "outputs": [
    {
     "name": "stdout",
     "output_type": "stream",
     "text": [
      "Using matplotlib backend: Qt5Agg\n",
      "0 Pursuiter 297\n",
      "1 Sprinter 106\n",
      "2 All_Rounder 141\n",
      "3 Time_Trialist_Climber 305\n",
      "4 Others 7\n"
     ]
    }
   ],
   "source": [
    "#%matplotlib\n",
    "# 7=\"Others\" 305=\"Time Trialist/Climber\" 106=\"Sprinter\" 297=\"Pursuiter\" 141=“All-Rounder”\n",
    "type_list = []\n",
    "fig = plt.figure()\n",
    "ax1 = plt.axes(projection='3d')\n",
    "\n",
    "mark = ['or', 'ob', 'og', 'ok', '^r', '+r', 'sr', 'dr', '<r', 'pr']\n",
    "cp_time_list = np.array([1,15,120,180,300,480,600,1200,1800])\n",
    "mean_cp_time_list = []\n",
    "type_num_list = []\n",
    "for cluster in clusters:\n",
    "    row_ix = np.where(label_pred == cluster)[0]\n",
    "    type_num_list.append(len(row_ix))\n",
    "    if len(row_ix)==7:\n",
    "        type_list.append(\"Others\")\n",
    "    elif  len(row_ix)==305:\n",
    "        type_list.append(\"Time_Trialist_Climber\")\n",
    "    elif  len(row_ix)==106:\n",
    "        type_list.append(\"Sprinter\") \n",
    "    elif  len(row_ix)==297:\n",
    "        type_list.append(\"Pursuiter\") \n",
    "    elif  len(row_ix)==141:\n",
    "        type_list.append(\"All_Rounder\") \n",
    "    print(cluster,type_list[cluster],len(row_ix))\n",
    "    x = [float(i) for i in riders_cp_time[row_ix, 0]]\n",
    "    y = [float(i) for i in riders_cp_time[row_ix, 2]]\n",
    "    z = [float(i) for i in riders_cp_time[row_ix, 8]]\n",
    "    ax1.scatter(x,y,z,mark[cluster],label=type_list[cluster])\n",
    "\n",
    "ax1.title.set_text('Kmeans Result')\n",
    "ax1.set_xlabel('1s_critical_power')\n",
    "ax1.set_ylabel('2m_critical_power')\n",
    "ax1.set_zlabel('30m_critical_power')\n",
    "plt.show()\n",
    "fig.savefig('Kmeans_%d_res.png'%(n_clusters),dpi=600)"
   ]
  },
  {
   "cell_type": "code",
   "execution_count": 20,
   "metadata": {},
   "outputs": [],
   "source": [
    "# print \"Time Trialist/Climber\"\n",
    "for i in range(len(clusters)):\n",
    "    id_type_data = {\n",
    "        type_list[i]:list(riders_id[np.where(label_pred == i)]) \n",
    "    }\n",
    "    id_type_data = pd.DataFrame(id_type_data)\n",
    "    id_type_data.to_csv('%s_id.csv'%(type_list[i]),mode='a',index=False,header=False)"
   ]
  },
  {
   "cell_type": "code",
   "execution_count": 5,
   "metadata": {},
   "outputs": [],
   "source": [
    "# 男女 柱状图\n",
    "male_list = np.zeros(5)\n",
    "female_list = np.zeros(5)\n",
    "for cluster in clusters:\n",
    "    row_ix = np.where(label_pred == cluster)[0]\n",
    "    res_male = np.where((riders_gender[row_ix]=='M'))[0]\n",
    "    res_female = np.where((riders_gender[row_ix]=='F'))[0]\n",
    "    male_list[cluster] = len(res_male)\n",
    "    female_list[cluster] = len(res_female)\n",
    "\n",
    "fig = plt.figure()\n",
    "width_1 = 0.4\n",
    "plt.bar(np.arange(len(male_list)),male_list,width=width_1,tick_label=type_list,label =\"male\")\n",
    "\n",
    "plt.bar(np.arange(len(female_list))+width_1,female_list,width=width_1,label=\"female\")\n",
    "plt.legend()\n",
    "plt.xlabel('Number')\n",
    "plt.ylabel('Rider Type')\n",
    "plt.show()"
   ]
  },
  {
   "cell_type": "code",
   "execution_count": 12,
   "metadata": {},
   "outputs": [],
   "source": [
    "# 男女 饼图\n",
    "male_list = np.zeros(5)\n",
    "female_list = np.zeros(5)\n",
    "for cluster in clusters:\n",
    "    row_ix = np.where(label_pred == cluster)[0]\n",
    "    res_male = np.where((riders_gender[row_ix]=='M'))[0]\n",
    "    res_female = np.where((riders_gender[row_ix]=='F'))[0]\n",
    "    male_list[cluster] = len(res_male)\n",
    "    female_list[cluster] = len(res_female)\n",
    "\n",
    "fig = plt.figure()\n",
    "ax1, ax2 = fig.subplots(1, 2, sharey=True)\n",
    "male_portion = [i*100.0/np.sum(male_list) for i in male_list]\n",
    "female_portion = [i*100.0/np.sum(female_list) for i in female_list]\n",
    "ax1.pie(male_portion,labels=type_list,autopct='%.2f%%',shadow=True)\n",
    "ax2.pie(female_portion,labels=type_list,autopct='%.2f%%',shadow=True)\n",
    "\n",
    "ax1.title.set_text('Male')\n",
    "ax2.title.set_text('Female')\n",
    "fig.savefig('gender_res.png',dpi=600)\n",
    "plt.show()"
   ]
  },
  {
   "cell_type": "code",
   "execution_count": 7,
   "metadata": {},
   "outputs": [],
   "source": [
    "from scipy import optimize\n",
    "fig = plt.figure()\n",
    "def power_fit(x, A, B):\n",
    "    return A*np.power(x,B)\n",
    "for cluster in clusters:\n",
    "    x = np.linspace(cp_time_list[0],cp_time_list[-1],1000)\n",
    "    if min(type_num_list)==type_num_list[cluster]:\n",
    "        continue\n",
    "    A, B = optimize.curve_fit(power_fit, cp_time_list, centroids[cluster])[0]\n",
    "    y = A*np.power(x,B)\n",
    "    plt.plot(np.log10(cp_time_list), centroids[cluster], '+',label='%s original'%(type_list[cluster]))\n",
    "    plt.plot(np.log10(x), y,label='%s fit'%(type_list[cluster]))\n",
    "plt.xlabel('log10(t) /s')\n",
    "plt.ylabel('Critical Power')\n",
    "# plt.legend(type_list) # 指定legend在图中的位置，类似象限的位置\n",
    "plt.title('Critical Power Fit')\n",
    "plt.show()"
   ]
  },
  {
   "cell_type": "code",
   "execution_count": 8,
   "metadata": {},
   "outputs": [],
   "source": [
    "from scipy import optimize\n",
    "fig = plt.figure()\n",
    "x = np.linspace(cp_time_list[0],cp_time_list[-1],1000)\n",
    "def test_fit(x, k0,k1,k2,k3,k4,k5,r1,r2):\n",
    "    return (k0+k1*np.exp(-r1*x)+k2*np.exp(-r2*x))/(k3+k4*np.exp(-r1*x)+k5*np.exp(-r2*x))\n",
    "for cluster in clusters:\n",
    "    if min(type_num_list)==type_num_list[cluster]:\n",
    "        continue\n",
    "    k0,k1,k2,k3,k4,k5,r1,r2 = optimize.curve_fit(test_fit, cp_time_list, centroids[cluster], maxfev=100000)[0]\n",
    "    y = (k0+k1*np.exp(-r1*x)+k2*np.exp(-r2*x))/(k3+k4*np.exp(-r1*x)+k5*np.exp(-r2*x))\n",
    "    plt.plot(np.log10(cp_time_list), centroids[cluster], '+',label='%s original'%(type_list[cluster]))\n",
    "    plt.plot(np.log10(x), y,label='%s fit'%(type_list[cluster]))\n",
    "plt.xlabel('log10(t) /s')\n",
    "plt.ylabel('Critical Power')\n",
    "plt.legend()\n",
    "plt.title('Power Profile')\n",
    "fig.savefig('Power_Profile_res.png',dpi=600)\n",
    "plt.show()"
   ]
  },
  {
   "cell_type": "code",
   "execution_count": 10,
   "metadata": {},
   "outputs": [
    {
     "name": "stdout",
     "output_type": "stream",
     "text": [
      "riders_w_mean: [10977.23926744 19794.02689942 19963.03444886 16442.29129531\n",
      " 20654.15383   ]\n",
      "riders_cp_mean: [197.74341611 289.15519329 279.8295412  251.38581822 280.72573704]\n",
      "riders_p_max_mean: [ 574.8138017  1277.83669072 1901.00501991  941.1488436  1409.42857143]\n"
     ]
    }
   ],
   "source": [
    "riders_w_mean = np.zeros(5)\n",
    "riders_cp_mean = np.zeros(5)\n",
    "riders_p_max_mean = np.zeros(5)\n",
    "\n",
    "for cluster in clusters:\n",
    "    row_ix = np.where(label_pred == cluster)[0]\n",
    "    riders_w_mean[cluster] = np.mean(riders_w[row_ix])\n",
    "    riders_cp_mean[cluster] = np.mean(riders_cp[row_ix])\n",
    "    riders_p_max_mean[cluster] = np.mean(riders_p_max[row_ix])\n",
    "\n",
    "print(\"riders_w_mean:\",riders_w_mean)\n",
    "print(\"riders_cp_mean:\",riders_cp_mean)\n",
    "print(\"riders_p_max_mean:\",riders_p_max_mean)"
   ]
  },
  {
   "cell_type": "code",
   "execution_count": null,
   "metadata": {},
   "outputs": [],
   "source": []
  }
 ],
 "metadata": {
  "kernelspec": {
   "display_name": "Python 3.9.13 ('python')",
   "language": "python",
   "name": "python3"
  },
  "language_info": {
   "codemirror_mode": {
    "name": "ipython",
    "version": 3
   },
   "file_extension": ".py",
   "mimetype": "text/x-python",
   "name": "python",
   "nbconvert_exporter": "python",
   "pygments_lexer": "ipython3",
   "version": "3.9.13"
  },
  "vscode": {
   "interpreter": {
    "hash": "0f15f76d370d025d02ff76b62b0dc43c834cb830a029301a22404666245f4978"
   }
  }
 },
 "nbformat": 4,
 "nbformat_minor": 2
}
